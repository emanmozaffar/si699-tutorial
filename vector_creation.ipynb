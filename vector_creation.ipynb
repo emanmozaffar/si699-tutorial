{
 "cells": [
  {
   "cell_type": "markdown",
   "id": "70589273",
   "metadata": {},
   "source": [
    "### Vector Creation using Gensim and word2vec"
   ]
  },
  {
   "cell_type": "code",
   "execution_count": 1,
   "id": "ae55e72a",
   "metadata": {},
   "outputs": [
    {
     "name": "stdout",
     "output_type": "stream",
     "text": [
      "\u001b[33mWARNING: Skipping /Users/emanmozaffar/anaconda3/lib/python3.11/site-packages/tensorflow_estimator-2.12.0.dist-info due to invalid metadata entry 'name'\u001b[0m\u001b[33m\n",
      "\u001b[0m\u001b[33mWARNING: Skipping /Users/emanmozaffar/anaconda3/lib/python3.11/site-packages/tensorflow_estimator-2.12.0.dist-info due to invalid metadata entry 'name'\u001b[0m\u001b[33m\n",
      "\u001b[0mCollecting gensim\n",
      "  Obtaining dependency information for gensim from https://files.pythonhosted.org/packages/63/46/5feab9c524a380bfa9f9f1c0d065743280dca30b216ab4c7a231f22dbed7/gensim-4.3.2-cp311-cp311-macosx_11_0_arm64.whl.metadata\n",
      "  Downloading gensim-4.3.2-cp311-cp311-macosx_11_0_arm64.whl.metadata (8.3 kB)\n",
      "Requirement already satisfied: numpy>=1.18.5 in /Users/emanmozaffar/anaconda3/lib/python3.11/site-packages (from gensim) (1.23.5)\n",
      "Requirement already satisfied: scipy>=1.7.0 in /Users/emanmozaffar/anaconda3/lib/python3.11/site-packages (from gensim) (1.11.3)\n",
      "Collecting smart-open>=1.8.1 (from gensim)\n",
      "  Obtaining dependency information for smart-open>=1.8.1 from https://files.pythonhosted.org/packages/fc/d9/d97f1db64b09278aba64e8c81b5d322d436132df5741c518f3823824fae0/smart_open-6.4.0-py3-none-any.whl.metadata\n",
      "  Downloading smart_open-6.4.0-py3-none-any.whl.metadata (21 kB)\n",
      "Downloading gensim-4.3.2-cp311-cp311-macosx_11_0_arm64.whl (24.0 MB)\n",
      "\u001b[2K   \u001b[38;2;114;156;31m━━━━━━━━━━━━━━━━━━━━━━━━━━━━━━━━━━━━━━━━\u001b[0m \u001b[32m24.0/24.0 MB\u001b[0m \u001b[31m18.8 MB/s\u001b[0m eta \u001b[36m0:00:00\u001b[0mm eta \u001b[36m0:00:01\u001b[0m[36m0:00:01\u001b[0m\n",
      "\u001b[?25hDownloading smart_open-6.4.0-py3-none-any.whl (57 kB)\n",
      "\u001b[2K   \u001b[38;2;114;156;31m━━━━━━━━━━━━━━━━━━━━━━━━━━━━━━━━━━━━━━━━\u001b[0m \u001b[32m57.0/57.0 kB\u001b[0m \u001b[31m4.8 MB/s\u001b[0m eta \u001b[36m0:00:00\u001b[0m\n",
      "\u001b[?25h\u001b[33mWARNING: Skipping /Users/emanmozaffar/anaconda3/lib/python3.11/site-packages/tensorflow_estimator-2.12.0.dist-info due to invalid metadata entry 'name'\u001b[0m\u001b[33m\n",
      "\u001b[0mInstalling collected packages: smart-open, gensim\n",
      "\u001b[33mWARNING: Skipping /Users/emanmozaffar/anaconda3/lib/python3.11/site-packages/tensorflow_estimator-2.12.0.dist-info due to invalid metadata entry 'name'\u001b[0m\u001b[33m\n",
      "\u001b[0mSuccessfully installed gensim-4.3.2 smart-open-6.4.0\n",
      "\u001b[33mWARNING: Skipping /Users/emanmozaffar/anaconda3/lib/python3.11/site-packages/tensorflow_estimator-2.12.0.dist-info due to invalid metadata entry 'name'\u001b[0m\u001b[33m\n",
      "\u001b[0m\u001b[33mWARNING: Skipping /Users/emanmozaffar/anaconda3/lib/python3.11/site-packages/tensorflow_estimator-2.12.0.dist-info due to invalid metadata entry 'name'\u001b[0m\u001b[33m\n",
      "\u001b[0m\u001b[33mWARNING: Skipping /Users/emanmozaffar/anaconda3/lib/python3.11/site-packages/tensorflow_estimator-2.12.0.dist-info due to invalid metadata entry 'name'\u001b[0m\u001b[33m\n",
      "\u001b[0m\u001b[33mWARNING: Skipping /Users/emanmozaffar/anaconda3/lib/python3.11/site-packages/tensorflow_estimator-2.12.0.dist-info due to invalid metadata entry 'name'\u001b[0m\u001b[33m\n",
      "\u001b[0m\u001b[33mWARNING: Skipping /Users/emanmozaffar/anaconda3/lib/python3.11/site-packages/tensorflow_estimator-2.12.0.dist-info due to invalid metadata entry 'name'\u001b[0m\u001b[33m\n",
      "\u001b[0mCollecting python-Levenshtein\n",
      "  Obtaining dependency information for python-Levenshtein from https://files.pythonhosted.org/packages/39/b7/8e2eaf39f68ce9aab9f6aa5cda3027847b4245a44acd781c85cf6f6da8fc/python_Levenshtein-0.24.0-py3-none-any.whl.metadata\n",
      "  Downloading python_Levenshtein-0.24.0-py3-none-any.whl.metadata (3.7 kB)\n",
      "Collecting Levenshtein==0.24.0 (from python-Levenshtein)\n",
      "  Obtaining dependency information for Levenshtein==0.24.0 from https://files.pythonhosted.org/packages/af/1d/97e47286a51f88c0136569c6e0adcb8d3472bec29958683159c9cfa076a5/Levenshtein-0.24.0-cp311-cp311-macosx_11_0_arm64.whl.metadata\n",
      "  Downloading Levenshtein-0.24.0-cp311-cp311-macosx_11_0_arm64.whl.metadata (3.3 kB)\n",
      "Collecting rapidfuzz<4.0.0,>=3.1.0 (from Levenshtein==0.24.0->python-Levenshtein)\n",
      "  Obtaining dependency information for rapidfuzz<4.0.0,>=3.1.0 from https://files.pythonhosted.org/packages/e8/00/0add85e5a1642ad1253f29ae63a18d1038c599d5cfd3de0c401c5e8ceb76/rapidfuzz-3.6.1-cp311-cp311-macosx_11_0_arm64.whl.metadata\n",
      "  Downloading rapidfuzz-3.6.1-cp311-cp311-macosx_11_0_arm64.whl.metadata (11 kB)\n",
      "Downloading python_Levenshtein-0.24.0-py3-none-any.whl (9.4 kB)\n",
      "Downloading Levenshtein-0.24.0-cp311-cp311-macosx_11_0_arm64.whl (103 kB)\n",
      "\u001b[2K   \u001b[38;2;114;156;31m━━━━━━━━━━━━━━━━━━━━━━━━━━━━━━━━━━━━━━━━\u001b[0m \u001b[32m103.4/103.4 kB\u001b[0m \u001b[31m1.8 MB/s\u001b[0m eta \u001b[36m0:00:00\u001b[0m31m1.5 MB/s\u001b[0m eta \u001b[36m0:00:01\u001b[0m\n",
      "\u001b[?25hDownloading rapidfuzz-3.6.1-cp311-cp311-macosx_11_0_arm64.whl (1.2 MB)\n",
      "\u001b[2K   \u001b[38;2;114;156;31m━━━━━━━━━━━━━━━━━━━━━━━━━━━━━━━━━━━━━━━━\u001b[0m \u001b[32m1.2/1.2 MB\u001b[0m \u001b[31m9.2 MB/s\u001b[0m eta \u001b[36m0:00:00\u001b[0m MB/s\u001b[0m eta \u001b[36m0:00:01\u001b[0m\n",
      "\u001b[?25h\u001b[33mWARNING: Skipping /Users/emanmozaffar/anaconda3/lib/python3.11/site-packages/tensorflow_estimator-2.12.0.dist-info due to invalid metadata entry 'name'\u001b[0m\u001b[33m\n",
      "\u001b[0mInstalling collected packages: rapidfuzz, Levenshtein, python-Levenshtein\n",
      "\u001b[33mWARNING: Skipping /Users/emanmozaffar/anaconda3/lib/python3.11/site-packages/tensorflow_estimator-2.12.0.dist-info due to invalid metadata entry 'name'\u001b[0m\u001b[33m\n",
      "\u001b[0m\u001b[33mWARNING: Skipping /Users/emanmozaffar/anaconda3/lib/python3.11/site-packages/tensorflow_estimator-2.12.0.dist-info due to invalid metadata entry 'name'\u001b[0m\u001b[33m\n",
      "\u001b[0m\u001b[33mWARNING: Skipping /Users/emanmozaffar/anaconda3/lib/python3.11/site-packages/tensorflow_estimator-2.12.0.dist-info due to invalid metadata entry 'name'\u001b[0m\u001b[33m\n",
      "\u001b[0mSuccessfully installed Levenshtein-0.24.0 python-Levenshtein-0.24.0 rapidfuzz-3.6.1\n",
      "\u001b[33mWARNING: Skipping /Users/emanmozaffar/anaconda3/lib/python3.11/site-packages/tensorflow_estimator-2.12.0.dist-info due to invalid metadata entry 'name'\u001b[0m\u001b[33m\n",
      "\u001b[0m\u001b[33mWARNING: Skipping /Users/emanmozaffar/anaconda3/lib/python3.11/site-packages/tensorflow_estimator-2.12.0.dist-info due to invalid metadata entry 'name'\u001b[0m\u001b[33m\n",
      "\u001b[0m\u001b[33mWARNING: Skipping /Users/emanmozaffar/anaconda3/lib/python3.11/site-packages/tensorflow_estimator-2.12.0.dist-info due to invalid metadata entry 'name'\u001b[0m\u001b[33m\n",
      "\u001b[0m"
     ]
    }
   ],
   "source": [
    "# Eman Mozaffar\n",
    "# Tutorial used: https://www.youtube.com/watch?v=Q2NtCcqmIww\n",
    "# Run these lines if you don't have these installed yet\n",
    "\n",
    "#!pip install gensim\n",
    "#!pip install python-Levenshtein"
   ]
  },
  {
   "cell_type": "code",
   "execution_count": 2,
   "id": "d5f34162",
   "metadata": {},
   "outputs": [],
   "source": [
    "import gensim\n",
    "import pandas as pd"
   ]
  },
  {
   "cell_type": "code",
   "execution_count": 3,
   "id": "49ce9ff4",
   "metadata": {},
   "outputs": [
    {
     "data": {
      "text/html": [
       "<div>\n",
       "<style scoped>\n",
       "    .dataframe tbody tr th:only-of-type {\n",
       "        vertical-align: middle;\n",
       "    }\n",
       "\n",
       "    .dataframe tbody tr th {\n",
       "        vertical-align: top;\n",
       "    }\n",
       "\n",
       "    .dataframe thead th {\n",
       "        text-align: right;\n",
       "    }\n",
       "</style>\n",
       "<table border=\"1\" class=\"dataframe\">\n",
       "  <thead>\n",
       "    <tr style=\"text-align: right;\">\n",
       "      <th></th>\n",
       "      <th>m0</th>\n",
       "      <th>line#</th>\n",
       "      <th>char#</th>\n",
       "      <th>charName</th>\n",
       "      <th>text</th>\n",
       "      <th>movieName</th>\n",
       "      <th>year</th>\n",
       "      <th>rating</th>\n",
       "      <th>IMDBvotes#</th>\n",
       "      <th>genre</th>\n",
       "    </tr>\n",
       "  </thead>\n",
       "  <tbody>\n",
       "    <tr>\n",
       "      <th>0</th>\n",
       "      <td>m1</td>\n",
       "      <td>L2181</td>\n",
       "      <td>u12</td>\n",
       "      <td>ALONSO</td>\n",
       "      <td>Can't be that far I say.  Also I don't like th...</td>\n",
       "      <td>1492: conquest of paradise</td>\n",
       "      <td>1992</td>\n",
       "      <td>6.2</td>\n",
       "      <td>10421.0</td>\n",
       "      <td>['adventure' 'biography' 'drama' 'history']</td>\n",
       "    </tr>\n",
       "    <tr>\n",
       "      <th>1</th>\n",
       "      <td>m1</td>\n",
       "      <td>L2180</td>\n",
       "      <td>u23</td>\n",
       "      <td>SAILOR</td>\n",
       "      <td>We left three weeks ago Alonso. Can't be that ...</td>\n",
       "      <td>1492: conquest of paradise</td>\n",
       "      <td>1992</td>\n",
       "      <td>6.2</td>\n",
       "      <td>10421.0</td>\n",
       "      <td>['adventure' 'biography' 'drama' 'history']</td>\n",
       "    </tr>\n",
       "    <tr>\n",
       "      <th>2</th>\n",
       "      <td>m1</td>\n",
       "      <td>L2179</td>\n",
       "      <td>u12</td>\n",
       "      <td>ALONSO</td>\n",
       "      <td>We should have seen land.</td>\n",
       "      <td>1492: conquest of paradise</td>\n",
       "      <td>1992</td>\n",
       "      <td>6.2</td>\n",
       "      <td>10421.0</td>\n",
       "      <td>['adventure' 'biography' 'drama' 'history']</td>\n",
       "    </tr>\n",
       "    <tr>\n",
       "      <th>3</th>\n",
       "      <td>m1</td>\n",
       "      <td>L2177</td>\n",
       "      <td>u23</td>\n",
       "      <td>SAILOR</td>\n",
       "      <td>We'll all go crazy...</td>\n",
       "      <td>1492: conquest of paradise</td>\n",
       "      <td>1992</td>\n",
       "      <td>6.2</td>\n",
       "      <td>10421.0</td>\n",
       "      <td>['adventure' 'biography' 'drama' 'history']</td>\n",
       "    </tr>\n",
       "    <tr>\n",
       "      <th>4</th>\n",
       "      <td>m1</td>\n",
       "      <td>L2176</td>\n",
       "      <td>u12</td>\n",
       "      <td>ALONSO</td>\n",
       "      <td>He's the devil's child...</td>\n",
       "      <td>1492: conquest of paradise</td>\n",
       "      <td>1992</td>\n",
       "      <td>6.2</td>\n",
       "      <td>10421.0</td>\n",
       "      <td>['adventure' 'biography' 'drama' 'history']</td>\n",
       "    </tr>\n",
       "  </tbody>\n",
       "</table>\n",
       "</div>"
      ],
      "text/plain": [
       "   m0  line# char# charName  \\\n",
       "0  m1  L2181   u12   ALONSO   \n",
       "1  m1  L2180   u23   SAILOR   \n",
       "2  m1  L2179   u12   ALONSO   \n",
       "3  m1  L2177   u23   SAILOR   \n",
       "4  m1  L2176   u12   ALONSO   \n",
       "\n",
       "                                                text  \\\n",
       "0  Can't be that far I say.  Also I don't like th...   \n",
       "1  We left three weeks ago Alonso. Can't be that ...   \n",
       "2                          We should have seen land.   \n",
       "3                              We'll all go crazy...   \n",
       "4                          He's the devil's child...   \n",
       "\n",
       "                    movieName  year  rating  IMDBvotes#  \\\n",
       "0  1492: conquest of paradise  1992     6.2     10421.0   \n",
       "1  1492: conquest of paradise  1992     6.2     10421.0   \n",
       "2  1492: conquest of paradise  1992     6.2     10421.0   \n",
       "3  1492: conquest of paradise  1992     6.2     10421.0   \n",
       "4  1492: conquest of paradise  1992     6.2     10421.0   \n",
       "\n",
       "                                         genre  \n",
       "0  ['adventure' 'biography' 'drama' 'history']  \n",
       "1  ['adventure' 'biography' 'drama' 'history']  \n",
       "2  ['adventure' 'biography' 'drama' 'history']  \n",
       "3  ['adventure' 'biography' 'drama' 'history']  \n",
       "4  ['adventure' 'biography' 'drama' 'history']  "
      ]
     },
     "execution_count": 3,
     "metadata": {},
     "output_type": "execute_result"
    }
   ],
   "source": [
    "# Import data file containing movie lines\n",
    "datafile = \"moviedata.csv\"\n",
    "movies = pd.read_csv(datafile)\n",
    "movies.head()"
   ]
  },
  {
   "cell_type": "code",
   "execution_count": 4,
   "id": "00eca60c",
   "metadata": {},
   "outputs": [
    {
     "data": {
      "text/plain": [
       "(287496, 10)"
      ]
     },
     "execution_count": 4,
     "metadata": {},
     "output_type": "execute_result"
    }
   ],
   "source": [
    "movies.shape"
   ]
  },
  {
   "cell_type": "code",
   "execution_count": 6,
   "id": "f83bbbea",
   "metadata": {},
   "outputs": [
    {
     "data": {
      "text/plain": [
       "0    [can, be, that, far, say, also, don, like, the...\n",
       "1    [we, left, three, weeks, ago, alonso, can, be,...\n",
       "2                       [we, should, have, seen, land]\n",
       "3                             [we, ll, all, go, crazy]\n",
       "4                              [he, the, devil, child]\n",
       "Name: text, dtype: object"
      ]
     },
     "execution_count": 6,
     "metadata": {},
     "output_type": "execute_result"
    }
   ],
   "source": [
    "# Preprocess the text to get rid of trailing spaces, punctuation, stopwords, etc.\n",
    "# We only care about the text column for word2vec purposes, so we tokenize this\n",
    "movie_text = movies.text.apply(gensim.utils.simple_preprocess)\n",
    "movie_text.head()"
   ]
  },
  {
   "cell_type": "markdown",
   "id": "db0c3755",
   "metadata": {},
   "source": [
    "#### Training a basic model on all data"
   ]
  },
  {
   "cell_type": "code",
   "execution_count": 7,
   "id": "85341cd9",
   "metadata": {},
   "outputs": [],
   "source": [
    "# Initialize gensim model\n",
    "model = gensim.models.Word2Vec(\n",
    "    window=10,\n",
    "    min_count=2,\n",
    "    workers=4\n",
    "    )"
   ]
  },
  {
   "cell_type": "code",
   "execution_count": 8,
   "id": "10806ab2",
   "metadata": {},
   "outputs": [],
   "source": [
    "# Build vocabulary\n",
    "model.build_vocab(movie_text, progress_per=1000)"
   ]
  },
  {
   "cell_type": "code",
   "execution_count": 9,
   "id": "0406853a",
   "metadata": {},
   "outputs": [
    {
     "data": {
      "text/plain": [
       "5"
      ]
     },
     "execution_count": 9,
     "metadata": {},
     "output_type": "execute_result"
    }
   ],
   "source": [
    "model.epochs"
   ]
  },
  {
   "cell_type": "code",
   "execution_count": 17,
   "id": "cc012a19",
   "metadata": {},
   "outputs": [
    {
     "data": {
      "text/plain": [
       "(10235556, 13968880)"
      ]
     },
     "execution_count": 17,
     "metadata": {},
     "output_type": "execute_result"
    }
   ],
   "source": [
    "# Train the model\n",
    "model.train(\n",
    "    movie_text, \n",
    "    total_examples=model.corpus_count, \n",
    "    epochs=5\n",
    ")"
   ]
  },
  {
   "cell_type": "code",
   "execution_count": 18,
   "id": "ffea88b5",
   "metadata": {},
   "outputs": [],
   "source": [
    "# Save the model\n",
    "model.save(\"./word2vec-movie-text.model\")"
   ]
  },
  {
   "cell_type": "markdown",
   "id": "63c215c8",
   "metadata": {},
   "source": [
    "#### Some simple examples of using the model"
   ]
  },
  {
   "cell_type": "code",
   "execution_count": 20,
   "id": "48ae5267",
   "metadata": {},
   "outputs": [
    {
     "data": {
      "text/plain": [
       "[('good', 0.6519631147384644),\n",
       " ('stupid', 0.6370585560798645),\n",
       " ('weird', 0.6032191514968872),\n",
       " ('rough', 0.5985896587371826),\n",
       " ('funny', 0.5981307625770569),\n",
       " ('smart', 0.5398736596107483),\n",
       " ('drunk', 0.5269859433174133),\n",
       " ('hard', 0.5223352909088135),\n",
       " ('tough', 0.5215043425559998),\n",
       " ('dumb', 0.5177732110023499)]"
      ]
     },
     "execution_count": 20,
     "metadata": {},
     "output_type": "execute_result"
    }
   ],
   "source": [
    "model.wv.most_similar(\"bad\")"
   ]
  },
  {
   "cell_type": "code",
   "execution_count": 25,
   "id": "dc9f22b6",
   "metadata": {},
   "outputs": [
    {
     "data": {
      "text/plain": [
       "0.17790651"
      ]
     },
     "execution_count": 25,
     "metadata": {},
     "output_type": "execute_result"
    }
   ],
   "source": [
    "model.wv.similarity(w1=\"woman\", w2=\"strong\")"
   ]
  },
  {
   "cell_type": "code",
   "execution_count": 26,
   "id": "edd2c2be",
   "metadata": {},
   "outputs": [
    {
     "data": {
      "text/plain": [
       "0.22163638"
      ]
     },
     "execution_count": 26,
     "metadata": {},
     "output_type": "execute_result"
    }
   ],
   "source": [
    "model.wv.similarity(w1=\"woman\", w2=\"weak\")"
   ]
  },
  {
   "cell_type": "code",
   "execution_count": 27,
   "id": "3df8bcb1",
   "metadata": {},
   "outputs": [
    {
     "data": {
      "text/plain": [
       "0.027020589"
      ]
     },
     "execution_count": 27,
     "metadata": {},
     "output_type": "execute_result"
    }
   ],
   "source": [
    "model.wv.similarity(w1=\"woman\", w2=\"home\")"
   ]
  },
  {
   "cell_type": "code",
   "execution_count": 28,
   "id": "ca35e714",
   "metadata": {},
   "outputs": [
    {
     "data": {
      "text/plain": [
       "0.024333421"
      ]
     },
     "execution_count": 28,
     "metadata": {},
     "output_type": "execute_result"
    }
   ],
   "source": [
    "model.wv.similarity(w1=\"woman\", w2=\"work\")"
   ]
  },
  {
   "cell_type": "markdown",
   "id": "cf95c309",
   "metadata": {},
   "source": [
    "#### Training different models based on decade"
   ]
  },
  {
   "cell_type": "code",
   "execution_count": 29,
   "id": "bb8de9a3",
   "metadata": {},
   "outputs": [
    {
     "data": {
      "text/html": [
       "<div>\n",
       "<style scoped>\n",
       "    .dataframe tbody tr th:only-of-type {\n",
       "        vertical-align: middle;\n",
       "    }\n",
       "\n",
       "    .dataframe tbody tr th {\n",
       "        vertical-align: top;\n",
       "    }\n",
       "\n",
       "    .dataframe thead th {\n",
       "        text-align: right;\n",
       "    }\n",
       "</style>\n",
       "<table border=\"1\" class=\"dataframe\">\n",
       "  <thead>\n",
       "    <tr style=\"text-align: right;\">\n",
       "      <th></th>\n",
       "      <th>m0</th>\n",
       "      <th>line#</th>\n",
       "      <th>char#</th>\n",
       "      <th>charName</th>\n",
       "      <th>text</th>\n",
       "      <th>movieName</th>\n",
       "      <th>year</th>\n",
       "      <th>rating</th>\n",
       "      <th>IMDBvotes#</th>\n",
       "      <th>genre</th>\n",
       "    </tr>\n",
       "  </thead>\n",
       "  <tbody>\n",
       "    <tr>\n",
       "      <th>0</th>\n",
       "      <td>m1</td>\n",
       "      <td>L2181</td>\n",
       "      <td>u12</td>\n",
       "      <td>ALONSO</td>\n",
       "      <td>[can, be, that, far, say, also, don, like, the...</td>\n",
       "      <td>1492: conquest of paradise</td>\n",
       "      <td>1992</td>\n",
       "      <td>6.2</td>\n",
       "      <td>10421.0</td>\n",
       "      <td>['adventure' 'biography' 'drama' 'history']</td>\n",
       "    </tr>\n",
       "    <tr>\n",
       "      <th>1</th>\n",
       "      <td>m1</td>\n",
       "      <td>L2180</td>\n",
       "      <td>u23</td>\n",
       "      <td>SAILOR</td>\n",
       "      <td>[we, left, three, weeks, ago, alonso, can, be,...</td>\n",
       "      <td>1492: conquest of paradise</td>\n",
       "      <td>1992</td>\n",
       "      <td>6.2</td>\n",
       "      <td>10421.0</td>\n",
       "      <td>['adventure' 'biography' 'drama' 'history']</td>\n",
       "    </tr>\n",
       "    <tr>\n",
       "      <th>2</th>\n",
       "      <td>m1</td>\n",
       "      <td>L2179</td>\n",
       "      <td>u12</td>\n",
       "      <td>ALONSO</td>\n",
       "      <td>[we, should, have, seen, land]</td>\n",
       "      <td>1492: conquest of paradise</td>\n",
       "      <td>1992</td>\n",
       "      <td>6.2</td>\n",
       "      <td>10421.0</td>\n",
       "      <td>['adventure' 'biography' 'drama' 'history']</td>\n",
       "    </tr>\n",
       "    <tr>\n",
       "      <th>3</th>\n",
       "      <td>m1</td>\n",
       "      <td>L2177</td>\n",
       "      <td>u23</td>\n",
       "      <td>SAILOR</td>\n",
       "      <td>[we, ll, all, go, crazy]</td>\n",
       "      <td>1492: conquest of paradise</td>\n",
       "      <td>1992</td>\n",
       "      <td>6.2</td>\n",
       "      <td>10421.0</td>\n",
       "      <td>['adventure' 'biography' 'drama' 'history']</td>\n",
       "    </tr>\n",
       "    <tr>\n",
       "      <th>4</th>\n",
       "      <td>m1</td>\n",
       "      <td>L2176</td>\n",
       "      <td>u12</td>\n",
       "      <td>ALONSO</td>\n",
       "      <td>[he, the, devil, child]</td>\n",
       "      <td>1492: conquest of paradise</td>\n",
       "      <td>1992</td>\n",
       "      <td>6.2</td>\n",
       "      <td>10421.0</td>\n",
       "      <td>['adventure' 'biography' 'drama' 'history']</td>\n",
       "    </tr>\n",
       "  </tbody>\n",
       "</table>\n",
       "</div>"
      ],
      "text/plain": [
       "   m0  line# char# charName  \\\n",
       "0  m1  L2181   u12   ALONSO   \n",
       "1  m1  L2180   u23   SAILOR   \n",
       "2  m1  L2179   u12   ALONSO   \n",
       "3  m1  L2177   u23   SAILOR   \n",
       "4  m1  L2176   u12   ALONSO   \n",
       "\n",
       "                                                text  \\\n",
       "0  [can, be, that, far, say, also, don, like, the...   \n",
       "1  [we, left, three, weeks, ago, alonso, can, be,...   \n",
       "2                     [we, should, have, seen, land]   \n",
       "3                           [we, ll, all, go, crazy]   \n",
       "4                            [he, the, devil, child]   \n",
       "\n",
       "                    movieName  year  rating  IMDBvotes#  \\\n",
       "0  1492: conquest of paradise  1992     6.2     10421.0   \n",
       "1  1492: conquest of paradise  1992     6.2     10421.0   \n",
       "2  1492: conquest of paradise  1992     6.2     10421.0   \n",
       "3  1492: conquest of paradise  1992     6.2     10421.0   \n",
       "4  1492: conquest of paradise  1992     6.2     10421.0   \n",
       "\n",
       "                                         genre  \n",
       "0  ['adventure' 'biography' 'drama' 'history']  \n",
       "1  ['adventure' 'biography' 'drama' 'history']  \n",
       "2  ['adventure' 'biography' 'drama' 'history']  \n",
       "3  ['adventure' 'biography' 'drama' 'history']  \n",
       "4  ['adventure' 'biography' 'drama' 'history']  "
      ]
     },
     "execution_count": 29,
     "metadata": {},
     "output_type": "execute_result"
    }
   ],
   "source": [
    "movies['text'] = movies.text.apply(gensim.utils.simple_preprocess)\n",
    "movies.head()"
   ]
  },
  {
   "cell_type": "code",
   "execution_count": 32,
   "id": "efff9ce5",
   "metadata": {},
   "outputs": [
    {
     "data": {
      "text/plain": [
       "m0             object\n",
       "line#          object\n",
       "char#          object\n",
       "charName       object\n",
       "text           object\n",
       "movieName      object\n",
       "year            int64\n",
       "rating        float64\n",
       "IMDBvotes#    float64\n",
       "genre          object\n",
       "dtype: object"
      ]
     },
     "execution_count": 32,
     "metadata": {},
     "output_type": "execute_result"
    }
   ],
   "source": [
    "# Turn year into an int so we can filter \n",
    "movies['year'] = movies['year'].str.replace('/I', '').astype(int)\n",
    "movies['year'] = movies['year'].astype(int)\n",
    "movies.dtypes"
   ]
  },
  {
   "cell_type": "code",
   "execution_count": 34,
   "id": "a9db449d",
   "metadata": {},
   "outputs": [
    {
     "data": {
      "text/plain": [
       "array([1992, 1997, 1987, 1999, 2003, 1934, 1991, 1990, 2007, 1993, 1995,\n",
       "       1983, 1994, 1998, 2001, 1985, 1982, 2000, 1976, 1937, 2002, 2004,\n",
       "       1980, 1955, 1970, 1941, 1927, 1939, 1988, 1936, 1984, 1986, 1989,\n",
       "       1931, 1954, 1981, 1949, 1943, 1975, 1932, 2010, 2006, 1977, 1953,\n",
       "       1996, 1972, 1963, 1945, 2008, 2005, 1960, 1964, 1979, 1950, 1973,\n",
       "       1966, 1959, 1974, 1968, 1971, 1967, 1944, 1978, 1940, 1946, 1942,\n",
       "       1969, 1965, 1933, 1957, 2009, 1958, 1961])"
      ]
     },
     "execution_count": 34,
     "metadata": {},
     "output_type": "execute_result"
    }
   ],
   "source": [
    "movies['year'].unique()"
   ]
  },
  {
   "cell_type": "code",
   "execution_count": 45,
   "id": "cdfb4169",
   "metadata": {},
   "outputs": [],
   "source": [
    "# Separate out all of the values we want\n",
    "movies_1921_1930 = movies[(movies['year'] >= 1921) & (movies['year'] <= 1930)]\n",
    "movies_1931_1940 = movies[(movies['year'] >= 1931) & (movies['year'] <= 1940)]\n",
    "movies_1941_1950 = movies[(movies['year'] >= 1941) & (movies['year'] <= 1950)]\n",
    "movies_1951_1960 = movies[(movies['year'] >= 1951) & (movies['year'] <= 1960)]\n",
    "movies_1961_1970 = movies[(movies['year'] >= 1961) & (movies['year'] <= 1970)]\n",
    "movies_1971_1980 = movies[(movies['year'] >= 1971) & (movies['year'] <= 1980)]\n",
    "movies_1981_1990 = movies[(movies['year'] >= 1981) & (movies['year'] <= 1990)]\n",
    "movies_1991_2000 = movies[(movies['year'] >= 1991) & (movies['year'] <= 2000)]\n",
    "movies_2001_2010 = movies[(movies['year'] >= 2001) & (movies['year'] <= 2010)]\n",
    "\n",
    "movie_dfs = [\n",
    "    movies_1921_1930,\n",
    "    movies_1931_1940,\n",
    "    movies_1941_1950,\n",
    "    movies_1951_1960,\n",
    "    movies_1961_1970,\n",
    "    movies_1971_1980,\n",
    "    movies_1981_1990,\n",
    "    movies_1991_2000,\n",
    "    movies_2001_2010\n",
    "]\n",
    "\n",
    "variable_names = [\n",
    "    'movies_1921_1930',\n",
    "    'movies_1931_1940',\n",
    "    'movies_1941_1950',\n",
    "    'movies_1951_1960',\n",
    "    'movies_1961_1970',\n",
    "    'movies_1971_1980',\n",
    "    'movies_1981_1990',\n",
    "    'movies_1991_2000',\n",
    "    'movies_2001_2010'\n",
    "]"
   ]
  },
  {
   "cell_type": "code",
   "execution_count": 43,
   "id": "a980a9f5",
   "metadata": {},
   "outputs": [
    {
     "data": {
      "text/html": [
       "<div>\n",
       "<style scoped>\n",
       "    .dataframe tbody tr th:only-of-type {\n",
       "        vertical-align: middle;\n",
       "    }\n",
       "\n",
       "    .dataframe tbody tr th {\n",
       "        vertical-align: top;\n",
       "    }\n",
       "\n",
       "    .dataframe thead th {\n",
       "        text-align: right;\n",
       "    }\n",
       "</style>\n",
       "<table border=\"1\" class=\"dataframe\">\n",
       "  <thead>\n",
       "    <tr style=\"text-align: right;\">\n",
       "      <th></th>\n",
       "      <th>m0</th>\n",
       "      <th>line#</th>\n",
       "      <th>char#</th>\n",
       "      <th>charName</th>\n",
       "      <th>text</th>\n",
       "      <th>movieName</th>\n",
       "      <th>year</th>\n",
       "      <th>rating</th>\n",
       "      <th>IMDBvotes#</th>\n",
       "      <th>genre</th>\n",
       "    </tr>\n",
       "  </thead>\n",
       "  <tbody>\n",
       "    <tr>\n",
       "      <th>3082</th>\n",
       "      <td>m103</td>\n",
       "      <td>L310944</td>\n",
       "      <td>u1530</td>\n",
       "      <td>ANDREWS</td>\n",
       "      <td>[worried, lovington, after, all, something, mi...</td>\n",
       "      <td>it happened one night</td>\n",
       "      <td>1934</td>\n",
       "      <td>8.3</td>\n",
       "      <td>25577.0</td>\n",
       "      <td>['comedy' 'romance']</td>\n",
       "    </tr>\n",
       "    <tr>\n",
       "      <th>3083</th>\n",
       "      <td>m103</td>\n",
       "      <td>L310943</td>\n",
       "      <td>u1542</td>\n",
       "      <td>LOVINGTON</td>\n",
       "      <td>[no, he, been, trailed, twenty, four, hours, d...</td>\n",
       "      <td>it happened one night</td>\n",
       "      <td>1934</td>\n",
       "      <td>8.3</td>\n",
       "      <td>25577.0</td>\n",
       "      <td>['comedy' 'romance']</td>\n",
       "    </tr>\n",
       "    <tr>\n",
       "      <th>3084</th>\n",
       "      <td>m103</td>\n",
       "      <td>L310942</td>\n",
       "      <td>u1530</td>\n",
       "      <td>ANDREWS</td>\n",
       "      <td>[it, not, enough, are, you, certain, she, not,...</td>\n",
       "      <td>it happened one night</td>\n",
       "      <td>1934</td>\n",
       "      <td>8.3</td>\n",
       "      <td>25577.0</td>\n",
       "      <td>['comedy' 'romance']</td>\n",
       "    </tr>\n",
       "    <tr>\n",
       "      <th>3085</th>\n",
       "      <td>m103</td>\n",
       "      <td>L310941</td>\n",
       "      <td>u1542</td>\n",
       "      <td>LOVINGTON</td>\n",
       "      <td>[ve, put, extra, men, on, all, along, the, way]</td>\n",
       "      <td>it happened one night</td>\n",
       "      <td>1934</td>\n",
       "      <td>8.3</td>\n",
       "      <td>25577.0</td>\n",
       "      <td>['comedy' 'romance']</td>\n",
       "    </tr>\n",
       "    <tr>\n",
       "      <th>3086</th>\n",
       "      <td>m103</td>\n",
       "      <td>L310940</td>\n",
       "      <td>u1530</td>\n",
       "      <td>ANDREWS</td>\n",
       "      <td>[what, asking, isn, impossible, my, daughter, ...</td>\n",
       "      <td>it happened one night</td>\n",
       "      <td>1934</td>\n",
       "      <td>8.3</td>\n",
       "      <td>25577.0</td>\n",
       "      <td>['comedy' 'romance']</td>\n",
       "    </tr>\n",
       "    <tr>\n",
       "      <th>...</th>\n",
       "      <td>...</td>\n",
       "      <td>...</td>\n",
       "      <td>...</td>\n",
       "      <td>...</td>\n",
       "      <td>...</td>\n",
       "      <td>...</td>\n",
       "      <td>...</td>\n",
       "      <td>...</td>\n",
       "      <td>...</td>\n",
       "      <td>...</td>\n",
       "    </tr>\n",
       "    <tr>\n",
       "      <th>284099</th>\n",
       "      <td>m90</td>\n",
       "      <td>L283912</td>\n",
       "      <td>u1376</td>\n",
       "      <td>WILSON</td>\n",
       "      <td>[who, hildy, johnson, she, just, stepped, out,...</td>\n",
       "      <td>his girl friday</td>\n",
       "      <td>1940</td>\n",
       "      <td>8.1</td>\n",
       "      <td>20870.0</td>\n",
       "      <td>['comedy' 'drama' 'romance']</td>\n",
       "    </tr>\n",
       "    <tr>\n",
       "      <th>284100</th>\n",
       "      <td>m90</td>\n",
       "      <td>L283871</td>\n",
       "      <td>u1374</td>\n",
       "      <td>SCHWARTZ</td>\n",
       "      <td>[give, that, marriage, six, months]</td>\n",
       "      <td>his girl friday</td>\n",
       "      <td>1940</td>\n",
       "      <td>8.1</td>\n",
       "      <td>20870.0</td>\n",
       "      <td>['comedy' 'drama' 'romance']</td>\n",
       "    </tr>\n",
       "    <tr>\n",
       "      <th>284101</th>\n",
       "      <td>m90</td>\n",
       "      <td>L283870</td>\n",
       "      <td>u1376</td>\n",
       "      <td>WILSON</td>\n",
       "      <td>[baldwin, his, name, is]</td>\n",
       "      <td>his girl friday</td>\n",
       "      <td>1940</td>\n",
       "      <td>8.1</td>\n",
       "      <td>20870.0</td>\n",
       "      <td>['comedy' 'drama' 'romance']</td>\n",
       "    </tr>\n",
       "    <tr>\n",
       "      <th>284102</th>\n",
       "      <td>m90</td>\n",
       "      <td>L283711</td>\n",
       "      <td>u1374</td>\n",
       "      <td>SCHWARTZ</td>\n",
       "      <td>[his, honor, the, mayor, now, comes, out, with...</td>\n",
       "      <td>his girl friday</td>\n",
       "      <td>1940</td>\n",
       "      <td>8.1</td>\n",
       "      <td>20870.0</td>\n",
       "      <td>['comedy' 'drama' 'romance']</td>\n",
       "    </tr>\n",
       "    <tr>\n",
       "      <th>284103</th>\n",
       "      <td>m90</td>\n",
       "      <td>L283710</td>\n",
       "      <td>u1376</td>\n",
       "      <td>WILSON</td>\n",
       "      <td>[well, williams, goes, little, balmy, and, beg...</td>\n",
       "      <td>his girl friday</td>\n",
       "      <td>1940</td>\n",
       "      <td>8.1</td>\n",
       "      <td>20870.0</td>\n",
       "      <td>['comedy' 'drama' 'romance']</td>\n",
       "    </tr>\n",
       "  </tbody>\n",
       "</table>\n",
       "<p>11521 rows × 10 columns</p>\n",
       "</div>"
      ],
      "text/plain": [
       "          m0    line#  char#   charName  \\\n",
       "3082    m103  L310944  u1530    ANDREWS   \n",
       "3083    m103  L310943  u1542  LOVINGTON   \n",
       "3084    m103  L310942  u1530    ANDREWS   \n",
       "3085    m103  L310941  u1542  LOVINGTON   \n",
       "3086    m103  L310940  u1530    ANDREWS   \n",
       "...      ...      ...    ...        ...   \n",
       "284099   m90  L283912  u1376     WILSON   \n",
       "284100   m90  L283871  u1374   SCHWARTZ   \n",
       "284101   m90  L283870  u1376     WILSON   \n",
       "284102   m90  L283711  u1374   SCHWARTZ   \n",
       "284103   m90  L283710  u1376     WILSON   \n",
       "\n",
       "                                                     text  \\\n",
       "3082    [worried, lovington, after, all, something, mi...   \n",
       "3083    [no, he, been, trailed, twenty, four, hours, d...   \n",
       "3084    [it, not, enough, are, you, certain, she, not,...   \n",
       "3085      [ve, put, extra, men, on, all, along, the, way]   \n",
       "3086    [what, asking, isn, impossible, my, daughter, ...   \n",
       "...                                                   ...   \n",
       "284099  [who, hildy, johnson, she, just, stepped, out,...   \n",
       "284100                [give, that, marriage, six, months]   \n",
       "284101                           [baldwin, his, name, is]   \n",
       "284102  [his, honor, the, mayor, now, comes, out, with...   \n",
       "284103  [well, williams, goes, little, balmy, and, beg...   \n",
       "\n",
       "                    movieName  year  rating  IMDBvotes#  \\\n",
       "3082    it happened one night  1934     8.3     25577.0   \n",
       "3083    it happened one night  1934     8.3     25577.0   \n",
       "3084    it happened one night  1934     8.3     25577.0   \n",
       "3085    it happened one night  1934     8.3     25577.0   \n",
       "3086    it happened one night  1934     8.3     25577.0   \n",
       "...                       ...   ...     ...         ...   \n",
       "284099        his girl friday  1940     8.1     20870.0   \n",
       "284100        his girl friday  1940     8.1     20870.0   \n",
       "284101        his girl friday  1940     8.1     20870.0   \n",
       "284102        his girl friday  1940     8.1     20870.0   \n",
       "284103        his girl friday  1940     8.1     20870.0   \n",
       "\n",
       "                               genre  \n",
       "3082            ['comedy' 'romance']  \n",
       "3083            ['comedy' 'romance']  \n",
       "3084            ['comedy' 'romance']  \n",
       "3085            ['comedy' 'romance']  \n",
       "3086            ['comedy' 'romance']  \n",
       "...                              ...  \n",
       "284099  ['comedy' 'drama' 'romance']  \n",
       "284100  ['comedy' 'drama' 'romance']  \n",
       "284101  ['comedy' 'drama' 'romance']  \n",
       "284102  ['comedy' 'drama' 'romance']  \n",
       "284103  ['comedy' 'drama' 'romance']  \n",
       "\n",
       "[11521 rows x 10 columns]"
      ]
     },
     "execution_count": 43,
     "metadata": {},
     "output_type": "execute_result"
    }
   ],
   "source": [
    "movies_1931_1940"
   ]
  },
  {
   "cell_type": "code",
   "execution_count": 46,
   "id": "f30cd3c4",
   "metadata": {
    "scrolled": false
   },
   "outputs": [],
   "source": [
    "# Go through all of the dataframes and repeat the model building process \n",
    "for movie, movie_df in zip(movie_dfs, variable_names):\n",
    "    \n",
    "    # Create the model\n",
    "    model = gensim.models.Word2Vec(\n",
    "        window=10,\n",
    "        min_count=2,\n",
    "        workers=4\n",
    "    )\n",
    "    \n",
    "    # Build vocab\n",
    "    model.build_vocab(movie_text, progress_per=1000)\n",
    "    \n",
    "    # Train the model\n",
    "    model.train(\n",
    "        movie_text, \n",
    "        total_examples=model.corpus_count, \n",
    "        epochs=5\n",
    "    )\n",
    "    \n",
    "    # Save the model with DataFrame name\n",
    "    model_name = f\"word2vec-{movie_df}-text.model\"\n",
    "    model.save(model_name)"
   ]
  },
  {
   "cell_type": "markdown",
   "id": "6ac86691",
   "metadata": {},
   "source": [
    "Now we have all of the models for each decade saved! What you can do now is load all of them in, and play around with them to compare decades against one another. For example, calculate the cosine similarity between 'woman' and 'weak', and 'woman' and 'strong' and compare how these have changed over the years."
   ]
  }
 ],
 "metadata": {
  "kernelspec": {
   "display_name": "Python 3 (ipykernel)",
   "language": "python",
   "name": "python3"
  },
  "language_info": {
   "codemirror_mode": {
    "name": "ipython",
    "version": 3
   },
   "file_extension": ".py",
   "mimetype": "text/x-python",
   "name": "python",
   "nbconvert_exporter": "python",
   "pygments_lexer": "ipython3",
   "version": "3.11.0"
  }
 },
 "nbformat": 4,
 "nbformat_minor": 5
}
